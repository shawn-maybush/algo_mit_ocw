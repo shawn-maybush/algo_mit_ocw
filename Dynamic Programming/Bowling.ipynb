{
 "cells": [
  {
   "cell_type": "markdown",
   "id": "ee8ea7f4",
   "metadata": {},
   "source": [
    "### Bowling DP\n",
    "1. Subproblem: </br>\n",
    "    B(i) = max score possible starting with i pins\n",
    "\n",
    "2. Orginal Problem: </br>\n",
    "    B(0)\n",
    "\n",
    "3. Relation: </br>\n",
    "    B(i) = max(B(i+1), v<sub>i</sub> + B(i+1), (v<sub>i</sub> * v<sub>(i+1)</sub>) + B(i + 2))\n",
    "    \n",
    "4. Topological Order: </br>\n",
    "    Decreasing i order </br>\n",
    "    for i = n, n-1, ..... 0\n",
    "    \n",
    "5. Base Case: </br>\n",
    "    B(n) = 0 </br>\n",
    "    \n",
    "6. Time:</br>\n",
    "    O(n)</br>\n"
   ]
  },
  {
   "cell_type": "code",
   "execution_count": 34,
   "id": "f88827eb",
   "metadata": {},
   "outputs": [],
   "source": [
    "def bowling(n):\n",
    "    s = len(n)\n",
    "    table = [0 for _ in range(s+1)]\n",
    "    table[-2] = max(table[-2], n[-1])\n",
    "    print(table)\n",
    "    for i in range(s-2, -1, -1):        \n",
    "        table[i]= max(table[i+1], table[i+1]+n[i], table[i+2] + (n[i] * n[i+1]))\n",
    "    print(table)\n",
    "    \n",
    "    return table[0]\n",
    "        \n",
    "        "
   ]
  },
  {
   "cell_type": "code",
   "execution_count": 35,
   "id": "e3638bce",
   "metadata": {},
   "outputs": [
    {
     "name": "stdout",
     "output_type": "stream",
     "text": [
      "[0, 0, 0, 0, 0, 0, 0, 9, 0]\n",
      "[110, 110, 109, 108, 83, 83, 81, 9, 0]\n"
     ]
    },
    {
     "data": {
      "text/plain": [
       "110"
      ]
     },
     "execution_count": 35,
     "metadata": {},
     "output_type": "execute_result"
    }
   ],
   "source": [
    "bowling([-3,1,1,-5,-5,2,9,9])"
   ]
  },
  {
   "cell_type": "markdown",
   "id": "da4c4c87",
   "metadata": {},
   "source": [
    "### Bowling DP\n",
    "1. Subproblem: </br>\n",
    "    B(i) = max score possible starting with i pins</br>\n",
    "2. Orginal Problem: </br>\n",
    "    B(n) </br>\n",
    "3. Relation: </br>\n",
    "    B(i) = max(B(i-1), v<sub>i</sub> + B(i-1), (v<sub>i</sub> * v<sub>(i-1)</sub>) + B(i - 2)) </br>\n",
    "4. Topological Order: </br>\n",
    "    Increasing i order </br>\n",
    "    for i = 0, 1 ... n-1 </br>\n",
    "5. Base Case: </br>\n",
    "    B(n) = 0  </br>\n",
    "6. Time:</br>\n",
    "    O(n)</br>"
   ]
  },
  {
   "cell_type": "code",
   "execution_count": 36,
   "id": "eb9ee2ba",
   "metadata": {},
   "outputs": [],
   "source": [
    "def bowling(n):\n",
    "    s = len(n)\n",
    "    table = [0 for _ in range(s)]\n",
    "    table[0] = max(n[0], table[0])\n",
    "    table[1] = max(n[0]*n[1], table[0]+n[1], table[0])\n",
    "    print(table)\n",
    "    for i in range(2, s):\n",
    "        table[i] = max(table[i-2]+(n[i]*n[i-1]), table[i-1]+n[i], table[i-1])\n",
    "    print(table)\n",
    "    return table[-1]"
   ]
  },
  {
   "cell_type": "code",
   "execution_count": 26,
   "id": "1fd0c09d",
   "metadata": {},
   "outputs": [
    {
     "name": "stdout",
     "output_type": "stream",
     "text": [
      "[0, 1, 0, 0, 0, 0, 0, 0]\n",
      "[0, 1, 2, 2, 27, 29, 45, 110]\n"
     ]
    },
    {
     "data": {
      "text/plain": [
       "110"
      ]
     },
     "execution_count": 26,
     "metadata": {},
     "output_type": "execute_result"
    }
   ],
   "source": [
    "bowling([-3,1,1,-5,-5,2,9,9])"
   ]
  },
  {
   "cell_type": "code",
   "execution_count": null,
   "id": "c15e494a",
   "metadata": {},
   "outputs": [],
   "source": []
  }
 ],
 "metadata": {
  "kernelspec": {
   "display_name": "Python 3 (ipykernel)",
   "language": "python",
   "name": "python3"
  },
  "language_info": {
   "codemirror_mode": {
    "name": "ipython",
    "version": 3
   },
   "file_extension": ".py",
   "mimetype": "text/x-python",
   "name": "python",
   "nbconvert_exporter": "python",
   "pygments_lexer": "ipython3",
   "version": "3.8.3"
  }
 },
 "nbformat": 4,
 "nbformat_minor": 5
}
