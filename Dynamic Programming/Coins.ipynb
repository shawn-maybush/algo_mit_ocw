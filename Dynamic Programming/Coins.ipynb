{
 "cells": [
  {
   "cell_type": "markdown",
   "id": "ff67fe23",
   "metadata": {},
   "source": [
    "1. Subproblem: </br>\n",
    "    X(i,j) = max total value I can get from coins of value v<sub>i</sub>,...,v<sub>j</sub> </br>\n",
    "    if player p goes first </br>\n",
    "    \n",
    "2. Relation: </br>\n",
    "    X(i,j,me) = max{X(i+1,j, you) + v<sub>i</sub>, X(i,j-1, you) + v<sub>j</sub>} </br>\n",
    "    X(i,j,you) = min{X(i+1, j, me), X(i, j-1, me)} </br>\n",
    "    \n",
    "3. Topological Order: </br>\n",
    "    increasing j-i </br>\n",
    "\n",
    "4. Base Case: </br>\n",
    "    X(i,i, me) = v<sub>i</sub> </br>\n",
    "    X(i,i, you) = 0 </br>\n",
    " \n",
    "5. Original Problem: </br>\n",
    "    \n",
    "    "
   ]
  },
  {
   "cell_type": "code",
   "execution_count": 60,
   "id": "f169ecaf",
   "metadata": {},
   "outputs": [
    {
     "name": "stdout",
     "output_type": "stream",
     "text": [
      "array([[[  5,   0,   0,   0],\n",
      "        [  0,  10,   0,   0],\n",
      "        [  0,   0, 100,   0],\n",
      "        [  0,   0,   0,  25]],\n",
      "\n",
      "       [[  0,   0,   0,   0],\n",
      "        [  0,   0,   0,   0],\n",
      "        [  0,   0,   0,   0],\n",
      "        [  0,   0,   0,   0]]])\n",
      "\n",
      "\n",
      "array([[[  5,  10, 105, 105],\n",
      "        [  0,  10, 100,  35],\n",
      "        [  0,   0, 100, 100],\n",
      "        [  0,   0,   0,  25]],\n",
      "\n",
      "       [[  0,   5,  10,  35],\n",
      "        [  0,   0,  10, 100],\n",
      "        [  0,   0,   0,  25],\n",
      "        [  0,   0,   0,   0]]])\n"
     ]
    },
    {
     "data": {
      "text/plain": [
       "(105, '1st')"
      ]
     },
     "execution_count": 60,
     "metadata": {},
     "output_type": "execute_result"
    }
   ],
   "source": [
    "from pprint import pprint\n",
    "import numpy as np\n",
    "\n",
    "def alt_coins(A):\n",
    "    n = len(A)\n",
    "    T = np.zeros((2,n,n), dtype='int')\n",
    "    me = 0\n",
    "    you = 1\n",
    "    \n",
    "    for x in range(n):\n",
    "        T[me, x, x] = A[x]\n",
    "        \n",
    "    pprint(T)\n",
    "    print(\"\\n\")\n",
    "    for i in range(n//2, -1, -1):\n",
    "        for j in range(i, n):\n",
    "            T[me, i, j] = max(T[you, i+1, j] + A[i], T[you, i, j-1] + A[j])\n",
    "            T[you, i, j] = min(T[me, i+1, j], T[me, i, j-1])\n",
    "    pprint(T)\n",
    "    \n",
    "    return (max(T[me, 0, n-1], T[you, 0, n-1]), '1st' if T[me, 0, n-1] >= T[you, 0, n-1] else '2nd' )\n",
    "            \n",
    "alt_coins([5, 10, 100, 25])   "
   ]
  },
  {
   "cell_type": "code",
   "execution_count": null,
   "id": "858e7873",
   "metadata": {},
   "outputs": [],
   "source": []
  }
 ],
 "metadata": {
  "kernelspec": {
   "display_name": "Python 3 (ipykernel)",
   "language": "python",
   "name": "python3"
  },
  "language_info": {
   "codemirror_mode": {
    "name": "ipython",
    "version": 3
   },
   "file_extension": ".py",
   "mimetype": "text/x-python",
   "name": "python",
   "nbconvert_exporter": "python",
   "pygments_lexer": "ipython3",
   "version": "3.8.3"
  }
 },
 "nbformat": 4,
 "nbformat_minor": 5
}
