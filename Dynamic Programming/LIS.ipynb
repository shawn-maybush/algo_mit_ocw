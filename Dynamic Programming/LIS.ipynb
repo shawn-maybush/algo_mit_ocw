{
 "cells": [
  {
   "cell_type": "markdown",
   "id": "53c087fc",
   "metadata": {},
   "source": [
    "# Longest Increasing Subsequence\n",
    "\n",
    "1. Subproblem: </br>\n",
    "    T(i) = LIS(A[i:]) </br>\n",
    "2. Relation: </br>\n",
    "    T(i) = max(if A[i] < A[i:]:T[i:] + 1)\n",
    "3. Topo: </br>\n",
    "    for i = |A|-1, ... , 0 </br>\n",
    "\n",
    "4. Base Case: </br>\n",
    "    T(n) = 1\n",
    "5. Original Problem: </br>\n",
    "    T(0)\n",
    "6. Time: </br>\n",
    "    O(n<sup>2</sup>)\n",
    "\n",
    "    \n",
    "    "
   ]
  },
  {
   "cell_type": "code",
   "execution_count": 1,
   "id": "fe032fe5",
   "metadata": {},
   "outputs": [],
   "source": [
    "def LIS(A):\n",
    "    T = [0 for x in range(len(A)+1)]\n",
    "    \n",
    "    for i in range(len(A)-1, -1, -1):\n",
    "        T_max = 0\n",
    "        for j in range(len(A) - 1, i - 1, -1):\n",
    "            if A[i] < A[j]:\n",
    "                T_max = max(T_max, T[j])\n",
    "        T[i] = T_max + 1\n",
    "        print(T)\n",
    "            \n",
    "            \n",
    "    print(T)\n",
    "    return max(T)\n",
    "    "
   ]
  },
  {
   "cell_type": "code",
   "execution_count": 2,
   "id": "149dd465",
   "metadata": {},
   "outputs": [
    {
     "name": "stdout",
     "output_type": "stream",
     "text": [
      "[0, 0, 0, 0, 0, 2, 1]\n",
      "[0, 0, 0, 0, 2, 2, 1]\n",
      "[0, 0, 0, 3, 2, 2, 1]\n",
      "[0, 0, 3, 3, 2, 2, 1]\n",
      "[0, 4, 3, 3, 2, 2, 1]\n",
      "[5, 4, 3, 3, 2, 2, 1]\n",
      "[5, 4, 3, 3, 2, 2, 1]\n"
     ]
    },
    {
     "data": {
      "text/plain": [
       "5"
      ]
     },
     "execution_count": 2,
     "metadata": {},
     "output_type": "execute_result"
    }
   ],
   "source": [
    "LIS(\"EMPATHY\")"
   ]
  },
  {
   "cell_type": "code",
   "execution_count": null,
   "id": "240d5c54",
   "metadata": {},
   "outputs": [],
   "source": []
  }
 ],
 "metadata": {
  "kernelspec": {
   "display_name": "Python 3 (ipykernel)",
   "language": "python",
   "name": "python3"
  },
  "language_info": {
   "codemirror_mode": {
    "name": "ipython",
    "version": 3
   },
   "file_extension": ".py",
   "mimetype": "text/x-python",
   "name": "python",
   "nbconvert_exporter": "python",
   "pygments_lexer": "ipython3",
   "version": "3.8.3"
  }
 },
 "nbformat": 4,
 "nbformat_minor": 5
}
