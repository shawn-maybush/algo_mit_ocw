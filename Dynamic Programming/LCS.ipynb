{
 "cells": [
  {
   "cell_type": "markdown",
   "id": "e173a786",
   "metadata": {},
   "source": [
    "# Longest Common Subsequence\n",
    "\n",
    "1. Subproblems: </br>\n",
    "    L(i,j) = LCS(A[i:],B[j:]) </br>\n",
    "    for 0<= i <= |A| , 0<= j <= |B| </br>\n",
    "\n",
    "2. Relation: </br>\n",
    "    if A[i] == B[j]: 1 + L(i + 1, j + 1), </br>\n",
    "    else: max(L(i + 1, j), L(i , j + 1)) </br>\n",
    "    \n",
    "3. Topo: </br>\n",
    "    for i = |A|,..., 0, j = |B|,...,0 </br>\n",
    "\n",
    "4. Base Case: </br>\n",
    "    L(|A|, j) == L(i, |B|) == 0 </br>\n",
    "5. Original Problem: </br>\n",
    "    L(0,0)</br>\n",
    "6. Time: </br>\n",
    "    O(|A| * |B|) = O(n<sup>2</sup>)"
   ]
  },
  {
   "cell_type": "code",
   "execution_count": 1,
   "id": "1fcb0a15",
   "metadata": {},
   "outputs": [],
   "source": [
    "from pprint import pprint\n",
    "\n",
    "def LCS(A, B):\n",
    "    len_A = len(A)\n",
    "    len_B = len(B)\n",
    "    max_len = max(len_A, len_B)\n",
    "    table = [[0 for a in range(max_len)] for b in range(max_len)]\n",
    "    for i in range(len_A-2, -1, -1):\n",
    "        for j in range(len_B-2, -1, -1):\n",
    "            if A[i] == B[j]:\n",
    "                table[i][j] = table[i+1][j+1] + 1\n",
    "            else:\n",
    "                table[i][j] = max(table[i+1][j], table[i][j+1])\n",
    "    pprint(table)\n",
    "    return table[0][0]\n"
   ]
  },
  {
   "cell_type": "code",
   "execution_count": 2,
   "id": "0ce5ff8c",
   "metadata": {},
   "outputs": [
    {
     "name": "stdout",
     "output_type": "stream",
     "text": [
      "[[4, 4, 4, 4, 3, 3, 2, 2, 2, 2, 2, 1, 0, 0, 0],\n",
      " [4, 4, 3, 3, 3, 3, 2, 2, 2, 2, 2, 1, 0, 0, 0],\n",
      " [3, 3, 3, 3, 3, 3, 2, 2, 2, 2, 2, 1, 0, 0, 0],\n",
      " [3, 3, 3, 3, 2, 2, 2, 2, 2, 2, 1, 1, 0, 0, 0],\n",
      " [3, 3, 3, 3, 2, 2, 2, 2, 2, 2, 1, 1, 0, 0, 0],\n",
      " [3, 3, 3, 3, 2, 2, 2, 2, 2, 2, 1, 1, 0, 0, 0],\n",
      " [3, 3, 3, 3, 2, 2, 2, 1, 1, 1, 1, 1, 0, 0, 0],\n",
      " [3, 3, 3, 3, 2, 2, 2, 1, 1, 1, 1, 1, 0, 0, 0],\n",
      " [3, 3, 3, 3, 2, 2, 2, 1, 1, 1, 1, 1, 0, 0, 0],\n",
      " [3, 3, 3, 3, 2, 2, 2, 1, 1, 1, 1, 1, 0, 0, 0],\n",
      " [2, 2, 2, 2, 2, 2, 2, 1, 1, 1, 1, 1, 0, 0, 0],\n",
      " [2, 2, 2, 2, 2, 2, 2, 1, 1, 1, 1, 1, 0, 0, 0],\n",
      " [1, 1, 1, 1, 1, 1, 1, 1, 1, 1, 0, 0, 0, 0, 0],\n",
      " [1, 1, 1, 1, 1, 1, 1, 1, 1, 1, 0, 0, 0, 0, 0],\n",
      " [0, 0, 0, 0, 0, 0, 0, 0, 0, 0, 0, 0, 0, 0, 0]]\n"
     ]
    },
    {
     "data": {
      "text/plain": [
       "4"
      ]
     },
     "execution_count": 2,
     "metadata": {},
     "output_type": "execute_result"
    }
   ],
   "source": [
    "A = \"HIEROGLYPHOLOGY\"\n",
    "B = \"MICHAELANGELO\"\n",
    "\n",
    "LCS(A, B)"
   ]
  },
  {
   "cell_type": "code",
   "execution_count": null,
   "id": "6d8fc4fd",
   "metadata": {},
   "outputs": [],
   "source": []
  }
 ],
 "metadata": {
  "kernelspec": {
   "display_name": "Python 3 (ipykernel)",
   "language": "python",
   "name": "python3"
  },
  "language_info": {
   "codemirror_mode": {
    "name": "ipython",
    "version": 3
   },
   "file_extension": ".py",
   "mimetype": "text/x-python",
   "name": "python",
   "nbconvert_exporter": "python",
   "pygments_lexer": "ipython3",
   "version": "3.8.3"
  }
 },
 "nbformat": 4,
 "nbformat_minor": 5
}
